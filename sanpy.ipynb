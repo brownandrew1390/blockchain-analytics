{
 "cells": [
  {
   "cell_type": "code",
   "execution_count": 7,
   "metadata": {},
   "outputs": [],
   "source": [
    "#! pip install sanpy\n",
    "import san\n",
    "import pandas as pd\n",
    "# san.ApiConfig.api_key = 'api-key-provided-by-sanbase'"
   ]
  },
  {
   "cell_type": "code",
   "execution_count": 8,
   "metadata": {},
   "outputs": [],
   "source": [
    "# Fetch slugs for all projects\n",
    "projects = san.get(\"projects/all\")"
   ]
  },
  {
   "cell_type": "code",
   "execution_count": 9,
   "metadata": {},
   "outputs": [],
   "source": [
    "# Fetch all metrics\n",
    "available_metrics = san.available_metrics()"
   ]
  },
  {
   "cell_type": "code",
   "execution_count": 10,
   "metadata": {},
   "outputs": [],
   "source": [
    "# Fetching metadata for an on-chain metric.\n",
    "def metric_metadata(metric):\n",
    "    metadata = san.metadata(metric,\n",
    "    arr=['availableSlugs',\n",
    "     'defaultAggregation',\n",
    "     'humanReadableName',\n",
    "     'isAccessible',\n",
    "     'isRestricted',\n",
    "     'restrictedFrom',\n",
    "     'restrictedTo'])\n",
    "    return metadata"
   ]
  },
  {
   "cell_type": "code",
   "execution_count": 11,
   "metadata": {},
   "outputs": [],
   "source": [
    "# Fetch all metrics for a given slug\n",
    "def available_metrics_for_slug(slug):\n",
    "    result = san.available_metrics_for_slug(slug)\n",
    "    return result"
   ]
  },
  {
   "cell_type": "code",
   "execution_count": 12,
   "metadata": {},
   "outputs": [],
   "source": [
    "# Fetch single metric (1 year with 1 day interval default)\n",
    "def fetch_metric(metric, slug):\n",
    "    chain = slug\n",
    "    try:\n",
    "        df = san.get(\n",
    "            f\"{metric}/{slug}\"#,\n",
    "            #from_date=\"2018-06-01\",\n",
    "            #to_date=\"2018-06-05\",\n",
    "            #interval=\"1d\"\n",
    "        )\n",
    "        return df\n",
    "    except:\n",
    "        pass"
   ]
  }
 ],
 "metadata": {
  "interpreter": {
   "hash": "7e3620d7daac22615dfdbbdca3d9cb9dd91a27e3b15d018c8a0f0e6cdb92fb2d"
  },
  "kernelspec": {
   "display_name": "Python 3.8.8 64-bit ('base': conda)",
   "language": "python",
   "name": "python3"
  },
  "language_info": {
   "codemirror_mode": {
    "name": "ipython",
    "version": 3
   },
   "file_extension": ".py",
   "mimetype": "text/x-python",
   "name": "python",
   "nbconvert_exporter": "python",
   "pygments_lexer": "ipython3",
   "version": "3.8.8"
  },
  "orig_nbformat": 4
 },
 "nbformat": 4,
 "nbformat_minor": 2
}
