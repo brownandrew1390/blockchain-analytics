{
 "cells": [
  {
   "cell_type": "code",
   "execution_count": 1,
   "metadata": {},
   "outputs": [],
   "source": [
    "# https://trends.google.com/trends/explore?q=avalanche%20crypto,fantom%20crypto,solana%20crypto,terra%20crypto,polygon%20crypto\n",
    "import csv\n",
    "import pandas as pd\n",
    "import plotly.express as px"
   ]
  },
  {
   "cell_type": "code",
   "execution_count": 2,
   "metadata": {},
   "outputs": [],
   "source": [
    "filepath = './data/google_trends_1_31_2022.csv'\n",
    "df = pd.read_csv(filepath)"
   ]
  },
  {
   "cell_type": "code",
   "execution_count": 3,
   "metadata": {},
   "outputs": [],
   "source": [
    "df = df.replace(['<1'], 0)\n",
    "df = df.set_index('Week')"
   ]
  },
  {
   "cell_type": "code",
   "execution_count": 4,
   "metadata": {},
   "outputs": [],
   "source": [
    "for x in df.columns:\n",
    "    df[x] = pd.to_numeric(df[x], errors='coerce')"
   ]
  },
  {
   "cell_type": "code",
   "execution_count": 5,
   "metadata": {},
   "outputs": [
    {
     "data": {
      "application/vnd.plotly.v1+json": {
       "config": {
        "plotlyServerURL": "https://plot.ly"
       },
       "data": [
        {
         "hovertemplate": "variable=avax coin: (Worldwide)<br>Week=%{x}<br>value=%{y}<extra></extra>",
         "legendgroup": "avax coin: (Worldwide)",
         "line": {
          "color": "#636efa",
          "dash": "solid"
         },
         "marker": {
          "symbol": "circle"
         },
         "mode": "lines",
         "name": "avax coin: (Worldwide)",
         "orientation": "v",
         "showlegend": true,
         "type": "scatter",
         "x": [
          "2/7/2021",
          "2/14/2021",
          "2/21/2021",
          "2/28/2021",
          "3/7/2021",
          "3/14/2021",
          "3/21/2021",
          "3/28/2021",
          "4/4/2021",
          "4/11/2021",
          "4/18/2021",
          "4/25/2021",
          "5/2/2021",
          "5/9/2021",
          "5/16/2021",
          "5/23/2021",
          "5/30/2021",
          "6/6/2021",
          "6/13/2021",
          "6/20/2021",
          "6/27/2021",
          "7/4/2021",
          "7/11/2021",
          "7/18/2021",
          "7/25/2021",
          "8/1/2021",
          "8/8/2021",
          "8/15/2021",
          "8/22/2021",
          "8/29/2021",
          "9/5/2021",
          "9/12/2021",
          "9/19/2021",
          "9/26/2021",
          "10/3/2021",
          "10/10/2021",
          "10/17/2021",
          "10/24/2021",
          "10/31/2021",
          "11/7/2021",
          "11/14/2021",
          "11/21/2021",
          "11/28/2021",
          "12/5/2021",
          "12/12/2021",
          "12/19/2021",
          "12/26/2021",
          "1/2/2022",
          "1/9/2022",
          "1/16/2022",
          "1/23/2022"
         ],
         "xaxis": "x",
         "y": [
          27,
          24,
          12,
          9,
          16,
          13,
          16,
          15,
          13,
          22,
          10,
          9,
          10,
          18,
          9,
          6,
          5,
          4,
          5,
          2,
          3,
          3,
          2,
          2,
          3,
          4,
          3,
          26,
          34,
          19,
          22,
          39,
          28,
          28,
          27,
          21,
          22,
          18,
          20,
          29,
          45,
          65,
          40,
          37,
          47,
          46,
          28,
          34,
          27,
          24,
          31
         ],
         "yaxis": "y"
        },
        {
         "hovertemplate": "variable=ftm coin: (Worldwide)<br>Week=%{x}<br>value=%{y}<extra></extra>",
         "legendgroup": "ftm coin: (Worldwide)",
         "line": {
          "color": "#EF553B",
          "dash": "solid"
         },
         "marker": {
          "symbol": "circle"
         },
         "mode": "lines",
         "name": "ftm coin: (Worldwide)",
         "orientation": "v",
         "showlegend": true,
         "type": "scatter",
         "x": [
          "2/7/2021",
          "2/14/2021",
          "2/21/2021",
          "2/28/2021",
          "3/7/2021",
          "3/14/2021",
          "3/21/2021",
          "3/28/2021",
          "4/4/2021",
          "4/11/2021",
          "4/18/2021",
          "4/25/2021",
          "5/2/2021",
          "5/9/2021",
          "5/16/2021",
          "5/23/2021",
          "5/30/2021",
          "6/6/2021",
          "6/13/2021",
          "6/20/2021",
          "6/27/2021",
          "7/4/2021",
          "7/11/2021",
          "7/18/2021",
          "7/25/2021",
          "8/1/2021",
          "8/8/2021",
          "8/15/2021",
          "8/22/2021",
          "8/29/2021",
          "9/5/2021",
          "9/12/2021",
          "9/19/2021",
          "9/26/2021",
          "10/3/2021",
          "10/10/2021",
          "10/17/2021",
          "10/24/2021",
          "10/31/2021",
          "11/7/2021",
          "11/14/2021",
          "11/21/2021",
          "11/28/2021",
          "12/5/2021",
          "12/12/2021",
          "12/19/2021",
          "12/26/2021",
          "1/2/2022",
          "1/9/2022",
          "1/16/2022",
          "1/23/2022"
         ],
         "xaxis": "x",
         "y": [
          1,
          3,
          14,
          6,
          5,
          4,
          4,
          7,
          4,
          4,
          2,
          7,
          6,
          10,
          4,
          2,
          3,
          3,
          2,
          2,
          2,
          0,
          1,
          1,
          1,
          3,
          2,
          4,
          3,
          15,
          16,
          11,
          7,
          4,
          8,
          9,
          12,
          16,
          12,
          18,
          12,
          14,
          7,
          7,
          7,
          10,
          10,
          22,
          13,
          17,
          16
         ],
         "yaxis": "y"
        },
        {
         "hovertemplate": "variable=sol coin: (Worldwide)<br>Week=%{x}<br>value=%{y}<extra></extra>",
         "legendgroup": "sol coin: (Worldwide)",
         "line": {
          "color": "#00cc96",
          "dash": "solid"
         },
         "marker": {
          "symbol": "circle"
         },
         "mode": "lines",
         "name": "sol coin: (Worldwide)",
         "orientation": "v",
         "showlegend": true,
         "type": "scatter",
         "x": [
          "2/7/2021",
          "2/14/2021",
          "2/21/2021",
          "2/28/2021",
          "3/7/2021",
          "3/14/2021",
          "3/21/2021",
          "3/28/2021",
          "4/4/2021",
          "4/11/2021",
          "4/18/2021",
          "4/25/2021",
          "5/2/2021",
          "5/9/2021",
          "5/16/2021",
          "5/23/2021",
          "5/30/2021",
          "6/6/2021",
          "6/13/2021",
          "6/20/2021",
          "6/27/2021",
          "7/4/2021",
          "7/11/2021",
          "7/18/2021",
          "7/25/2021",
          "8/1/2021",
          "8/8/2021",
          "8/15/2021",
          "8/22/2021",
          "8/29/2021",
          "9/5/2021",
          "9/12/2021",
          "9/19/2021",
          "9/26/2021",
          "10/3/2021",
          "10/10/2021",
          "10/17/2021",
          "10/24/2021",
          "10/31/2021",
          "11/7/2021",
          "11/14/2021",
          "11/21/2021",
          "11/28/2021",
          "12/5/2021",
          "12/12/2021",
          "12/19/2021",
          "12/26/2021",
          "1/2/2022",
          "1/9/2022",
          "1/16/2022",
          "1/23/2022"
         ],
         "xaxis": "x",
         "y": [
          4,
          3,
          8,
          3,
          4,
          7,
          4,
          7,
          11,
          5,
          12,
          17,
          9,
          12,
          14,
          11,
          11,
          9,
          8,
          7,
          7,
          5,
          6,
          6,
          6,
          5,
          6,
          19,
          19,
          45,
          60,
          42,
          35,
          20,
          18,
          14,
          22,
          20,
          20,
          23,
          11,
          16,
          15,
          13,
          12,
          11,
          7,
          8,
          10,
          8,
          11
         ],
         "yaxis": "y"
        },
        {
         "hovertemplate": "variable=luna coin: (Worldwide)<br>Week=%{x}<br>value=%{y}<extra></extra>",
         "legendgroup": "luna coin: (Worldwide)",
         "line": {
          "color": "#ab63fa",
          "dash": "solid"
         },
         "marker": {
          "symbol": "circle"
         },
         "mode": "lines",
         "name": "luna coin: (Worldwide)",
         "orientation": "v",
         "showlegend": true,
         "type": "scatter",
         "x": [
          "2/7/2021",
          "2/14/2021",
          "2/21/2021",
          "2/28/2021",
          "3/7/2021",
          "3/14/2021",
          "3/21/2021",
          "3/28/2021",
          "4/4/2021",
          "4/11/2021",
          "4/18/2021",
          "4/25/2021",
          "5/2/2021",
          "5/9/2021",
          "5/16/2021",
          "5/23/2021",
          "5/30/2021",
          "6/6/2021",
          "6/13/2021",
          "6/20/2021",
          "6/27/2021",
          "7/4/2021",
          "7/11/2021",
          "7/18/2021",
          "7/25/2021",
          "8/1/2021",
          "8/8/2021",
          "8/15/2021",
          "8/22/2021",
          "8/29/2021",
          "9/5/2021",
          "9/12/2021",
          "9/19/2021",
          "9/26/2021",
          "10/3/2021",
          "10/10/2021",
          "10/17/2021",
          "10/24/2021",
          "10/31/2021",
          "11/7/2021",
          "11/14/2021",
          "11/21/2021",
          "11/28/2021",
          "12/5/2021",
          "12/12/2021",
          "12/19/2021",
          "12/26/2021",
          "1/2/2022",
          "1/9/2022",
          "1/16/2022",
          "1/23/2022"
         ],
         "xaxis": "x",
         "y": [
          9,
          4,
          4,
          5,
          10,
          18,
          4,
          4,
          3,
          5,
          6,
          9,
          6,
          15,
          10,
          8,
          5,
          4,
          5,
          3,
          3,
          6,
          3,
          3,
          4,
          7,
          7,
          18,
          13,
          14,
          11,
          10,
          9,
          7,
          13,
          12,
          12,
          11,
          13,
          10,
          11,
          9,
          21,
          21,
          13,
          29,
          24,
          18,
          14,
          14,
          23
         ],
         "yaxis": "y"
        },
        {
         "hovertemplate": "variable=matic coin: (Worldwide)<br>Week=%{x}<br>value=%{y}<extra></extra>",
         "legendgroup": "matic coin: (Worldwide)",
         "line": {
          "color": "#FFA15A",
          "dash": "solid"
         },
         "marker": {
          "symbol": "circle"
         },
         "mode": "lines",
         "name": "matic coin: (Worldwide)",
         "orientation": "v",
         "showlegend": true,
         "type": "scatter",
         "x": [
          "2/7/2021",
          "2/14/2021",
          "2/21/2021",
          "2/28/2021",
          "3/7/2021",
          "3/14/2021",
          "3/21/2021",
          "3/28/2021",
          "4/4/2021",
          "4/11/2021",
          "4/18/2021",
          "4/25/2021",
          "5/2/2021",
          "5/9/2021",
          "5/16/2021",
          "5/23/2021",
          "5/30/2021",
          "6/6/2021",
          "6/13/2021",
          "6/20/2021",
          "6/27/2021",
          "7/4/2021",
          "7/11/2021",
          "7/18/2021",
          "7/25/2021",
          "8/1/2021",
          "8/8/2021",
          "8/15/2021",
          "8/22/2021",
          "8/29/2021",
          "9/5/2021",
          "9/12/2021",
          "9/19/2021",
          "9/26/2021",
          "10/3/2021",
          "10/10/2021",
          "10/17/2021",
          "10/24/2021",
          "10/31/2021",
          "11/7/2021",
          "11/14/2021",
          "11/21/2021",
          "11/28/2021",
          "12/5/2021",
          "12/12/2021",
          "12/19/2021",
          "12/26/2021",
          "1/2/2022",
          "1/9/2022",
          "1/16/2022",
          "1/23/2022"
         ],
         "xaxis": "x",
         "y": [
          16,
          9,
          11,
          10,
          25,
          18,
          9,
          15,
          10,
          14,
          8,
          48,
          24,
          71,
          100,
          87,
          60,
          39,
          32,
          28,
          23,
          15,
          16,
          18,
          21,
          20,
          34,
          27,
          23,
          21,
          22,
          17,
          16,
          9,
          10,
          22,
          25,
          33,
          23,
          20,
          22,
          19,
          30,
          42,
          33,
          30,
          27,
          23,
          18,
          18,
          16
         ],
         "yaxis": "y"
        }
       ],
       "layout": {
        "legend": {
         "title": {
          "text": "variable"
         },
         "tracegroupgap": 0
        },
        "template": {
         "data": {
          "bar": [
           {
            "error_x": {
             "color": "#2a3f5f"
            },
            "error_y": {
             "color": "#2a3f5f"
            },
            "marker": {
             "line": {
              "color": "#E5ECF6",
              "width": 0.5
             },
             "pattern": {
              "fillmode": "overlay",
              "size": 10,
              "solidity": 0.2
             }
            },
            "type": "bar"
           }
          ],
          "barpolar": [
           {
            "marker": {
             "line": {
              "color": "#E5ECF6",
              "width": 0.5
             },
             "pattern": {
              "fillmode": "overlay",
              "size": 10,
              "solidity": 0.2
             }
            },
            "type": "barpolar"
           }
          ],
          "carpet": [
           {
            "aaxis": {
             "endlinecolor": "#2a3f5f",
             "gridcolor": "white",
             "linecolor": "white",
             "minorgridcolor": "white",
             "startlinecolor": "#2a3f5f"
            },
            "baxis": {
             "endlinecolor": "#2a3f5f",
             "gridcolor": "white",
             "linecolor": "white",
             "minorgridcolor": "white",
             "startlinecolor": "#2a3f5f"
            },
            "type": "carpet"
           }
          ],
          "choropleth": [
           {
            "colorbar": {
             "outlinewidth": 0,
             "ticks": ""
            },
            "type": "choropleth"
           }
          ],
          "contour": [
           {
            "colorbar": {
             "outlinewidth": 0,
             "ticks": ""
            },
            "colorscale": [
             [
              0,
              "#0d0887"
             ],
             [
              0.1111111111111111,
              "#46039f"
             ],
             [
              0.2222222222222222,
              "#7201a8"
             ],
             [
              0.3333333333333333,
              "#9c179e"
             ],
             [
              0.4444444444444444,
              "#bd3786"
             ],
             [
              0.5555555555555556,
              "#d8576b"
             ],
             [
              0.6666666666666666,
              "#ed7953"
             ],
             [
              0.7777777777777778,
              "#fb9f3a"
             ],
             [
              0.8888888888888888,
              "#fdca26"
             ],
             [
              1,
              "#f0f921"
             ]
            ],
            "type": "contour"
           }
          ],
          "contourcarpet": [
           {
            "colorbar": {
             "outlinewidth": 0,
             "ticks": ""
            },
            "type": "contourcarpet"
           }
          ],
          "heatmap": [
           {
            "colorbar": {
             "outlinewidth": 0,
             "ticks": ""
            },
            "colorscale": [
             [
              0,
              "#0d0887"
             ],
             [
              0.1111111111111111,
              "#46039f"
             ],
             [
              0.2222222222222222,
              "#7201a8"
             ],
             [
              0.3333333333333333,
              "#9c179e"
             ],
             [
              0.4444444444444444,
              "#bd3786"
             ],
             [
              0.5555555555555556,
              "#d8576b"
             ],
             [
              0.6666666666666666,
              "#ed7953"
             ],
             [
              0.7777777777777778,
              "#fb9f3a"
             ],
             [
              0.8888888888888888,
              "#fdca26"
             ],
             [
              1,
              "#f0f921"
             ]
            ],
            "type": "heatmap"
           }
          ],
          "heatmapgl": [
           {
            "colorbar": {
             "outlinewidth": 0,
             "ticks": ""
            },
            "colorscale": [
             [
              0,
              "#0d0887"
             ],
             [
              0.1111111111111111,
              "#46039f"
             ],
             [
              0.2222222222222222,
              "#7201a8"
             ],
             [
              0.3333333333333333,
              "#9c179e"
             ],
             [
              0.4444444444444444,
              "#bd3786"
             ],
             [
              0.5555555555555556,
              "#d8576b"
             ],
             [
              0.6666666666666666,
              "#ed7953"
             ],
             [
              0.7777777777777778,
              "#fb9f3a"
             ],
             [
              0.8888888888888888,
              "#fdca26"
             ],
             [
              1,
              "#f0f921"
             ]
            ],
            "type": "heatmapgl"
           }
          ],
          "histogram": [
           {
            "marker": {
             "pattern": {
              "fillmode": "overlay",
              "size": 10,
              "solidity": 0.2
             }
            },
            "type": "histogram"
           }
          ],
          "histogram2d": [
           {
            "colorbar": {
             "outlinewidth": 0,
             "ticks": ""
            },
            "colorscale": [
             [
              0,
              "#0d0887"
             ],
             [
              0.1111111111111111,
              "#46039f"
             ],
             [
              0.2222222222222222,
              "#7201a8"
             ],
             [
              0.3333333333333333,
              "#9c179e"
             ],
             [
              0.4444444444444444,
              "#bd3786"
             ],
             [
              0.5555555555555556,
              "#d8576b"
             ],
             [
              0.6666666666666666,
              "#ed7953"
             ],
             [
              0.7777777777777778,
              "#fb9f3a"
             ],
             [
              0.8888888888888888,
              "#fdca26"
             ],
             [
              1,
              "#f0f921"
             ]
            ],
            "type": "histogram2d"
           }
          ],
          "histogram2dcontour": [
           {
            "colorbar": {
             "outlinewidth": 0,
             "ticks": ""
            },
            "colorscale": [
             [
              0,
              "#0d0887"
             ],
             [
              0.1111111111111111,
              "#46039f"
             ],
             [
              0.2222222222222222,
              "#7201a8"
             ],
             [
              0.3333333333333333,
              "#9c179e"
             ],
             [
              0.4444444444444444,
              "#bd3786"
             ],
             [
              0.5555555555555556,
              "#d8576b"
             ],
             [
              0.6666666666666666,
              "#ed7953"
             ],
             [
              0.7777777777777778,
              "#fb9f3a"
             ],
             [
              0.8888888888888888,
              "#fdca26"
             ],
             [
              1,
              "#f0f921"
             ]
            ],
            "type": "histogram2dcontour"
           }
          ],
          "mesh3d": [
           {
            "colorbar": {
             "outlinewidth": 0,
             "ticks": ""
            },
            "type": "mesh3d"
           }
          ],
          "parcoords": [
           {
            "line": {
             "colorbar": {
              "outlinewidth": 0,
              "ticks": ""
             }
            },
            "type": "parcoords"
           }
          ],
          "pie": [
           {
            "automargin": true,
            "type": "pie"
           }
          ],
          "scatter": [
           {
            "marker": {
             "colorbar": {
              "outlinewidth": 0,
              "ticks": ""
             }
            },
            "type": "scatter"
           }
          ],
          "scatter3d": [
           {
            "line": {
             "colorbar": {
              "outlinewidth": 0,
              "ticks": ""
             }
            },
            "marker": {
             "colorbar": {
              "outlinewidth": 0,
              "ticks": ""
             }
            },
            "type": "scatter3d"
           }
          ],
          "scattercarpet": [
           {
            "marker": {
             "colorbar": {
              "outlinewidth": 0,
              "ticks": ""
             }
            },
            "type": "scattercarpet"
           }
          ],
          "scattergeo": [
           {
            "marker": {
             "colorbar": {
              "outlinewidth": 0,
              "ticks": ""
             }
            },
            "type": "scattergeo"
           }
          ],
          "scattergl": [
           {
            "marker": {
             "colorbar": {
              "outlinewidth": 0,
              "ticks": ""
             }
            },
            "type": "scattergl"
           }
          ],
          "scattermapbox": [
           {
            "marker": {
             "colorbar": {
              "outlinewidth": 0,
              "ticks": ""
             }
            },
            "type": "scattermapbox"
           }
          ],
          "scatterpolar": [
           {
            "marker": {
             "colorbar": {
              "outlinewidth": 0,
              "ticks": ""
             }
            },
            "type": "scatterpolar"
           }
          ],
          "scatterpolargl": [
           {
            "marker": {
             "colorbar": {
              "outlinewidth": 0,
              "ticks": ""
             }
            },
            "type": "scatterpolargl"
           }
          ],
          "scatterternary": [
           {
            "marker": {
             "colorbar": {
              "outlinewidth": 0,
              "ticks": ""
             }
            },
            "type": "scatterternary"
           }
          ],
          "surface": [
           {
            "colorbar": {
             "outlinewidth": 0,
             "ticks": ""
            },
            "colorscale": [
             [
              0,
              "#0d0887"
             ],
             [
              0.1111111111111111,
              "#46039f"
             ],
             [
              0.2222222222222222,
              "#7201a8"
             ],
             [
              0.3333333333333333,
              "#9c179e"
             ],
             [
              0.4444444444444444,
              "#bd3786"
             ],
             [
              0.5555555555555556,
              "#d8576b"
             ],
             [
              0.6666666666666666,
              "#ed7953"
             ],
             [
              0.7777777777777778,
              "#fb9f3a"
             ],
             [
              0.8888888888888888,
              "#fdca26"
             ],
             [
              1,
              "#f0f921"
             ]
            ],
            "type": "surface"
           }
          ],
          "table": [
           {
            "cells": {
             "fill": {
              "color": "#EBF0F8"
             },
             "line": {
              "color": "white"
             }
            },
            "header": {
             "fill": {
              "color": "#C8D4E3"
             },
             "line": {
              "color": "white"
             }
            },
            "type": "table"
           }
          ]
         },
         "layout": {
          "annotationdefaults": {
           "arrowcolor": "#2a3f5f",
           "arrowhead": 0,
           "arrowwidth": 1
          },
          "autotypenumbers": "strict",
          "coloraxis": {
           "colorbar": {
            "outlinewidth": 0,
            "ticks": ""
           }
          },
          "colorscale": {
           "diverging": [
            [
             0,
             "#8e0152"
            ],
            [
             0.1,
             "#c51b7d"
            ],
            [
             0.2,
             "#de77ae"
            ],
            [
             0.3,
             "#f1b6da"
            ],
            [
             0.4,
             "#fde0ef"
            ],
            [
             0.5,
             "#f7f7f7"
            ],
            [
             0.6,
             "#e6f5d0"
            ],
            [
             0.7,
             "#b8e186"
            ],
            [
             0.8,
             "#7fbc41"
            ],
            [
             0.9,
             "#4d9221"
            ],
            [
             1,
             "#276419"
            ]
           ],
           "sequential": [
            [
             0,
             "#0d0887"
            ],
            [
             0.1111111111111111,
             "#46039f"
            ],
            [
             0.2222222222222222,
             "#7201a8"
            ],
            [
             0.3333333333333333,
             "#9c179e"
            ],
            [
             0.4444444444444444,
             "#bd3786"
            ],
            [
             0.5555555555555556,
             "#d8576b"
            ],
            [
             0.6666666666666666,
             "#ed7953"
            ],
            [
             0.7777777777777778,
             "#fb9f3a"
            ],
            [
             0.8888888888888888,
             "#fdca26"
            ],
            [
             1,
             "#f0f921"
            ]
           ],
           "sequentialminus": [
            [
             0,
             "#0d0887"
            ],
            [
             0.1111111111111111,
             "#46039f"
            ],
            [
             0.2222222222222222,
             "#7201a8"
            ],
            [
             0.3333333333333333,
             "#9c179e"
            ],
            [
             0.4444444444444444,
             "#bd3786"
            ],
            [
             0.5555555555555556,
             "#d8576b"
            ],
            [
             0.6666666666666666,
             "#ed7953"
            ],
            [
             0.7777777777777778,
             "#fb9f3a"
            ],
            [
             0.8888888888888888,
             "#fdca26"
            ],
            [
             1,
             "#f0f921"
            ]
           ]
          },
          "colorway": [
           "#636efa",
           "#EF553B",
           "#00cc96",
           "#ab63fa",
           "#FFA15A",
           "#19d3f3",
           "#FF6692",
           "#B6E880",
           "#FF97FF",
           "#FECB52"
          ],
          "font": {
           "color": "#2a3f5f"
          },
          "geo": {
           "bgcolor": "white",
           "lakecolor": "white",
           "landcolor": "#E5ECF6",
           "showlakes": true,
           "showland": true,
           "subunitcolor": "white"
          },
          "hoverlabel": {
           "align": "left"
          },
          "hovermode": "closest",
          "mapbox": {
           "style": "light"
          },
          "paper_bgcolor": "white",
          "plot_bgcolor": "#E5ECF6",
          "polar": {
           "angularaxis": {
            "gridcolor": "white",
            "linecolor": "white",
            "ticks": ""
           },
           "bgcolor": "#E5ECF6",
           "radialaxis": {
            "gridcolor": "white",
            "linecolor": "white",
            "ticks": ""
           }
          },
          "scene": {
           "xaxis": {
            "backgroundcolor": "#E5ECF6",
            "gridcolor": "white",
            "gridwidth": 2,
            "linecolor": "white",
            "showbackground": true,
            "ticks": "",
            "zerolinecolor": "white"
           },
           "yaxis": {
            "backgroundcolor": "#E5ECF6",
            "gridcolor": "white",
            "gridwidth": 2,
            "linecolor": "white",
            "showbackground": true,
            "ticks": "",
            "zerolinecolor": "white"
           },
           "zaxis": {
            "backgroundcolor": "#E5ECF6",
            "gridcolor": "white",
            "gridwidth": 2,
            "linecolor": "white",
            "showbackground": true,
            "ticks": "",
            "zerolinecolor": "white"
           }
          },
          "shapedefaults": {
           "line": {
            "color": "#2a3f5f"
           }
          },
          "ternary": {
           "aaxis": {
            "gridcolor": "white",
            "linecolor": "white",
            "ticks": ""
           },
           "baxis": {
            "gridcolor": "white",
            "linecolor": "white",
            "ticks": ""
           },
           "bgcolor": "#E5ECF6",
           "caxis": {
            "gridcolor": "white",
            "linecolor": "white",
            "ticks": ""
           }
          },
          "title": {
           "x": 0.05
          },
          "xaxis": {
           "automargin": true,
           "gridcolor": "white",
           "linecolor": "white",
           "ticks": "",
           "title": {
            "standoff": 15
           },
           "zerolinecolor": "white",
           "zerolinewidth": 2
          },
          "yaxis": {
           "automargin": true,
           "gridcolor": "white",
           "linecolor": "white",
           "ticks": "",
           "title": {
            "standoff": 15
           },
           "zerolinecolor": "white",
           "zerolinewidth": 2
          }
         }
        },
        "title": {
         "text": "Google Search Interest (0-100)"
        },
        "xaxis": {
         "anchor": "y",
         "domain": [
          0,
          1
         ],
         "title": {
          "text": "Week"
         }
        },
        "yaxis": {
         "anchor": "x",
         "domain": [
          0,
          1
         ],
         "title": {
          "text": "value"
         }
        }
       }
      }
     },
     "metadata": {},
     "output_type": "display_data"
    }
   ],
   "source": [
    "fig = px.line(df, title='Google Search Interest (0-100)')\n",
    "fig.show()"
   ]
  },
  {
   "cell_type": "code",
   "execution_count": null,
   "metadata": {},
   "outputs": [],
   "source": []
  }
 ],
 "metadata": {
  "interpreter": {
   "hash": "4f47422cd3130507370d328054aa9f928b4473521caf897e8544c6a6bd2b6d11"
  },
  "kernelspec": {
   "display_name": "Python 3.7.10 64-bit ('pyvizenv': conda)",
   "language": "python",
   "name": "python3"
  },
  "language_info": {
   "codemirror_mode": {
    "name": "ipython",
    "version": 3
   },
   "file_extension": ".py",
   "mimetype": "text/x-python",
   "name": "python",
   "nbconvert_exporter": "python",
   "pygments_lexer": "ipython3",
   "version": "3.7.10"
  },
  "orig_nbformat": 4
 },
 "nbformat": 4,
 "nbformat_minor": 2
}
